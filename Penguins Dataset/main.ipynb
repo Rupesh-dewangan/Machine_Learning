{
 "cells": [
  {
   "cell_type": "code",
   "execution_count": 2,
   "id": "9d33ef15",
   "metadata": {},
   "outputs": [],
   "source": [
    "import pandas as pd \n",
    "import numpy as np \n"
   ]
  },
  {
   "cell_type": "code",
   "execution_count": 3,
   "id": "29cf663a",
   "metadata": {},
   "outputs": [
    {
     "data": {
      "text/html": [
       "<div>\n",
       "<style scoped>\n",
       "    .dataframe tbody tr th:only-of-type {\n",
       "        vertical-align: middle;\n",
       "    }\n",
       "\n",
       "    .dataframe tbody tr th {\n",
       "        vertical-align: top;\n",
       "    }\n",
       "\n",
       "    .dataframe thead th {\n",
       "        text-align: right;\n",
       "    }\n",
       "</style>\n",
       "<table border=\"1\" class=\"dataframe\">\n",
       "  <thead>\n",
       "    <tr style=\"text-align: right;\">\n",
       "      <th></th>\n",
       "      <th>species</th>\n",
       "      <th>island</th>\n",
       "      <th>bill_length_mm</th>\n",
       "      <th>bill_depth_mm</th>\n",
       "      <th>flipper_length_mm</th>\n",
       "      <th>body_mass_g</th>\n",
       "      <th>sex</th>\n",
       "    </tr>\n",
       "  </thead>\n",
       "  <tbody>\n",
       "    <tr>\n",
       "      <th>0</th>\n",
       "      <td>Adelie</td>\n",
       "      <td>Torgersen</td>\n",
       "      <td>39.1</td>\n",
       "      <td>18.7</td>\n",
       "      <td>181.0</td>\n",
       "      <td>3750.0</td>\n",
       "      <td>MALE</td>\n",
       "    </tr>\n",
       "    <tr>\n",
       "      <th>1</th>\n",
       "      <td>Adelie</td>\n",
       "      <td>Torgersen</td>\n",
       "      <td>39.5</td>\n",
       "      <td>17.4</td>\n",
       "      <td>186.0</td>\n",
       "      <td>3800.0</td>\n",
       "      <td>FEMALE</td>\n",
       "    </tr>\n",
       "    <tr>\n",
       "      <th>2</th>\n",
       "      <td>Adelie</td>\n",
       "      <td>Torgersen</td>\n",
       "      <td>40.3</td>\n",
       "      <td>18.0</td>\n",
       "      <td>195.0</td>\n",
       "      <td>3250.0</td>\n",
       "      <td>FEMALE</td>\n",
       "    </tr>\n",
       "    <tr>\n",
       "      <th>3</th>\n",
       "      <td>Adelie</td>\n",
       "      <td>Torgersen</td>\n",
       "      <td>NaN</td>\n",
       "      <td>NaN</td>\n",
       "      <td>NaN</td>\n",
       "      <td>NaN</td>\n",
       "      <td>NaN</td>\n",
       "    </tr>\n",
       "    <tr>\n",
       "      <th>4</th>\n",
       "      <td>Adelie</td>\n",
       "      <td>Torgersen</td>\n",
       "      <td>36.7</td>\n",
       "      <td>19.3</td>\n",
       "      <td>193.0</td>\n",
       "      <td>3450.0</td>\n",
       "      <td>FEMALE</td>\n",
       "    </tr>\n",
       "  </tbody>\n",
       "</table>\n",
       "</div>"
      ],
      "text/plain": [
       "  species     island  bill_length_mm  bill_depth_mm  flipper_length_mm  \\\n",
       "0  Adelie  Torgersen            39.1           18.7              181.0   \n",
       "1  Adelie  Torgersen            39.5           17.4              186.0   \n",
       "2  Adelie  Torgersen            40.3           18.0              195.0   \n",
       "3  Adelie  Torgersen             NaN            NaN                NaN   \n",
       "4  Adelie  Torgersen            36.7           19.3              193.0   \n",
       "\n",
       "   body_mass_g     sex  \n",
       "0       3750.0    MALE  \n",
       "1       3800.0  FEMALE  \n",
       "2       3250.0  FEMALE  \n",
       "3          NaN     NaN  \n",
       "4       3450.0  FEMALE  "
      ]
     },
     "execution_count": 3,
     "metadata": {},
     "output_type": "execute_result"
    }
   ],
   "source": [
    "data_raw = pd.read_csv('penguins.csv')\n",
    "data_raw.head()"
   ]
  },
  {
   "cell_type": "code",
   "execution_count": 7,
   "id": "066b932b",
   "metadata": {},
   "outputs": [
    {
     "data": {
      "text/plain": [
       "species              0\n",
       "island               0\n",
       "bill_length_mm       0\n",
       "bill_depth_mm        0\n",
       "flipper_length_mm    0\n",
       "body_mass_g          0\n",
       "sex                  0\n",
       "dtype: int64"
      ]
     },
     "execution_count": 7,
     "metadata": {},
     "output_type": "execute_result"
    }
   ],
   "source": [
    "data_raw.isnull().sum()"
   ]
  },
  {
   "cell_type": "code",
   "execution_count": 6,
   "id": "0fdfe132",
   "metadata": {},
   "outputs": [],
   "source": [
    "data_raw = data_raw.dropna(axis=0)"
   ]
  },
  {
   "cell_type": "code",
   "execution_count": 9,
   "id": "424b804a",
   "metadata": {},
   "outputs": [
    {
     "name": "stdout",
     "output_type": "stream",
     "text": [
      "<class 'pandas.core.frame.DataFrame'>\n",
      "Index: 333 entries, 0 to 343\n",
      "Data columns (total 7 columns):\n",
      " #   Column             Non-Null Count  Dtype  \n",
      "---  ------             --------------  -----  \n",
      " 0   species            333 non-null    object \n",
      " 1   island             333 non-null    object \n",
      " 2   bill_length_mm     333 non-null    float64\n",
      " 3   bill_depth_mm      333 non-null    float64\n",
      " 4   flipper_length_mm  333 non-null    float64\n",
      " 5   body_mass_g        333 non-null    float64\n",
      " 6   sex                333 non-null    object \n",
      "dtypes: float64(4), object(3)\n",
      "memory usage: 20.8+ KB\n"
     ]
    }
   ],
   "source": [
    "data_raw.info()"
   ]
  },
  {
   "cell_type": "code",
   "execution_count": 11,
   "id": "78f25d46",
   "metadata": {},
   "outputs": [
    {
     "data": {
      "text/plain": [
       "sex\n",
       "MALE      168\n",
       "FEMALE    165\n",
       "Name: count, dtype: int64"
      ]
     },
     "execution_count": 11,
     "metadata": {},
     "output_type": "execute_result"
    }
   ],
   "source": [
    "data_raw['sex'].value_counts()"
   ]
  },
  {
   "cell_type": "code",
   "execution_count": 12,
   "id": "70f6bbf3",
   "metadata": {},
   "outputs": [
    {
     "data": {
      "text/plain": [
       "species\n",
       "Adelie       146\n",
       "Gentoo       119\n",
       "Chinstrap     68\n",
       "Name: count, dtype: int64"
      ]
     },
     "execution_count": 12,
     "metadata": {},
     "output_type": "execute_result"
    }
   ],
   "source": [
    "data_raw['species'].value_counts()"
   ]
  },
  {
   "cell_type": "code",
   "execution_count": 13,
   "id": "7dc2b21e",
   "metadata": {},
   "outputs": [
    {
     "data": {
      "text/plain": [
       "island\n",
       "Biscoe       163\n",
       "Dream        123\n",
       "Torgersen     47\n",
       "Name: count, dtype: int64"
      ]
     },
     "execution_count": 13,
     "metadata": {},
     "output_type": "execute_result"
    }
   ],
   "source": [
    "data_raw['island'].value_counts()"
   ]
  },
  {
   "cell_type": "code",
   "execution_count": 14,
   "id": "196fa84f",
   "metadata": {},
   "outputs": [],
   "source": [
    "data = data_raw.copy()"
   ]
  },
  {
   "cell_type": "code",
   "execution_count": 15,
   "id": "48a20ff1",
   "metadata": {},
   "outputs": [],
   "source": [
    "data.to_csv('data.csv', index=False)"
   ]
  },
  {
   "cell_type": "code",
   "execution_count": 16,
   "id": "1bd0204c",
   "metadata": {},
   "outputs": [
    {
     "name": "stderr",
     "output_type": "stream",
     "text": [
      "2025-05-28 23:53:46.638 \n",
      "  \u001b[33m\u001b[1mWarning:\u001b[0m to view this Streamlit app on a browser, run it with the following\n",
      "  command:\n",
      "\n",
      "    streamlit run c:\\Users\\dewan\\anaconda3\\Lib\\site-packages\\ipykernel_launcher.py [ARGUMENTS]\n",
      "2025-05-28 23:53:47.736 Session state does not function when running a script without `streamlit run`\n"
     ]
    },
    {
     "data": {
      "text/plain": [
       "DeltaGenerator()"
      ]
     },
     "execution_count": 16,
     "metadata": {},
     "output_type": "execute_result"
    }
   ],
   "source": [
    "import streamlit as st\n",
    "import pandas as pd \n",
    "import numpy as np\n",
    "from sklearn.ensemble import RandomForestClassifier\n",
    "\n",
    "st.title('🐧Penguine Species Prediction')\n",
    "st.info('Predicting the penguine species using Machine Learning model')\n",
    "\n",
    "with st.expander('Data'):\n",
    "    st.write(\"**Raw data**\")\n",
    "    df = pd.read_csv('data.csv')\n",
    "    df\n",
    "\n",
    "    st.write('**X**')\n",
    "    X_raw = df.drop('species',axis=1)\n",
    "    X_raw\n",
    "\n",
    "    st.write('**y**')\n",
    "    y_raw = df.species\n",
    "    y_raw\n",
    "\n",
    "\n",
    "with st.expander('Data Visualization'):\n",
    "    st.scatter_chart(data=df,x='bill_length_mm',y='body_mass_g',color='species')\n",
    "\n",
    "# data preparation\n",
    "\n",
    "with st.sidebar:\n",
    "    st.header('Input Features')\n",
    "    island = st.selectbox('Island', ('Biscoe','Dream','Torgersen'))\n",
    "    sex = st.selectbox('Gender',('MALE','FEMALE'))\n",
    "    bill_length_mm = st.slider('Bill Length (mm)',32.1,59.6,43.9)\n",
    "\n",
    "    bill_depth_mm = st.slider('Bill Depth (mm)',13.1,21.5,17.2)\n",
    "    flipper_length_mm = st.slider('Flipper Length (mm)',172.0,231.0,201.0)\n",
    "    body_mass_g = st.slider('Body Mass (g)',2700.0,6300.0,4207.0)\n",
    "\n",
    "    # Create a dataframe for the input feature\n",
    "\n",
    "    data = {'island': island,\n",
    "            'bill_length_mm':bill_length_mm,\n",
    "            'bill_depth_mm': bill_depth_mm,\n",
    "            'flipper_length_mm' :flipper_length_mm,\n",
    "            'body_mass_g':body_mass_g,\n",
    "            'sex' :sex\n",
    "\n",
    "            \n",
    "            }\n",
    "input_df = pd.DataFrame(data,index=[0])\n",
    "input_penguins = pd.concat([input_df,X_raw],axis=0)\n",
    "\n",
    "\n",
    "with st.expander('Input features'):\n",
    "    st.write('**Input Penguins**')\n",
    "    input_df\n",
    "    st.write('**Combine Penguins Data**')\n",
    "    input_penguins\n",
    "\n",
    "#encode X \n",
    "encode = ['island','sex']\n",
    "df_penguins = pd.get_dummies(input_penguins,prefix=encode)\n",
    "\n",
    "X = df_penguins[1:]\n",
    "\n",
    "input_row = df_penguins[:1  ]\n",
    "\n",
    "# Encode Y \n",
    "target_mapper = {'Adelie':0, 'Chinstrap':1 ,'Gentoo':2}\n",
    "\n",
    "def target_encode(val):\n",
    "    return target_mapper[val]\n",
    "\n",
    "y= y_raw.apply(target_encode)\n",
    "\n",
    "\n",
    "with st.expander('Data Preparation'):\n",
    "    st.write('**Encoded input penguins (x)**')\n",
    "    input_row  \n",
    "    st.write('**Encoded y**')\n",
    "    y\n",
    "\n",
    "#Model Training and inference\n",
    "## Train the ML Model\n",
    "\n",
    "clf = RandomForestClassifier()\n",
    "clf.fit(X,y)\n",
    "\n",
    "## Apply model \n",
    "\n",
    "prediction = clf.predict(input_row)\n",
    "prediction_prob = clf.predict_proba(input_row)\n",
    "\n",
    "df_prediction_proba = pd.DataFrame(prediction_prob)\n",
    "df_prediction_proba.columns = ['Adelie', 'Chinstrap','Gentoo']\n",
    "#df_prediction_proba.rename(columns={0:'Adelie', 1:'Chinstrap' ,2:'Gentoo'})\n",
    "\n",
    "\n",
    "\n",
    "# Display predicted species \n",
    "st.subheader('Predicted Species')\n",
    "st.dataframe(df_prediction_proba, column_config={\n",
    "    'Adelie': st.column_config.ProgressColumn('Adelie',format='%f',width='medium',min_value=0,max_value=1),\n",
    "    'Chinstrap': st.column_config.ProgressColumn('Chinstrap',format='%f',width='medium',min_value=0,max_value=1),\n",
    "    'Gentoo': st.column_config.ProgressColumn('Gentoo',format='%f',width='medium',min_value=0,max_value=1)\n",
    "})\n",
    "\n",
    "penguins_species = np.array(['Adelie', 'Chinstrap','Gentoo'])\n",
    "st.success(str(penguins_species[prediction][0]))"
   ]
  }
 ],
 "metadata": {
  "kernelspec": {
   "display_name": "base",
   "language": "python",
   "name": "python3"
  },
  "language_info": {
   "codemirror_mode": {
    "name": "ipython",
    "version": 3
   },
   "file_extension": ".py",
   "mimetype": "text/x-python",
   "name": "python",
   "nbconvert_exporter": "python",
   "pygments_lexer": "ipython3",
   "version": "3.12.3"
  }
 },
 "nbformat": 4,
 "nbformat_minor": 5
}
